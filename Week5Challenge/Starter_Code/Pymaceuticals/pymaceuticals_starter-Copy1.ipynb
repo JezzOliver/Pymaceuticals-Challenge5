{
 "cells": [
  {
   "cell_type": "markdown",
   "metadata": {},
   "source": [
    "# Pymaceuticals Inc.\n",
    "---\n",
    "\n",
    "### Analysis\n",
    "\n",
    "- Add your analysis here.\n",
    " "
   ]
  },
  {
   "cell_type": "code",
   "execution_count": null,
   "metadata": {},
   "outputs": [],
   "source": [
    "# Dependencies and Setup\n",
    "import matplotlib.pyplot as plt\n",
    "import pandas as pd\n",
    "import scipy.stats as st\n",
    "\n",
    "# Study data files\n",
    "mouse_metadata_path = \"data/Mouse_metadata.csv\"\n",
    "study_results_path = \"data/Study_results.csv\"\n",
    "\n",
    "# Read the mouse data and the study results\n",
    "study_result = pd.read_csv(mouse_metadata_path)\n",
    "study_results = pd.read_csv(study_results_path)\n",
    "\n",
    "# Combine the data into a single dataset\n",
    "pymerged_df = pd.merge(study_results, study_result, how=\"left\", on=[\"Mouse ID\"])\n",
    "# Display the data table for preview\n",
    "pymerged_df.head()"
   ]
  },
  {
   "cell_type": "code",
   "execution_count": null,
   "metadata": {},
   "outputs": [],
   "source": [
    "# Checking the number of mice.\n",
    "mousecount = len(pymerged_df[\"Mouse ID\"].unique())\n",
    "mousecount"
   ]
  },
  {
   "cell_type": "code",
   "execution_count": null,
   "metadata": {},
   "outputs": [],
   "source": [
    "# Getting the duplicate mice by ID number that shows up for Mouse ID and Timepoint. \n",
    "dupe_df = pymerged_df[pymerged_df[[\"Mouse ID\", \"Timepoint\"]].duplicated()]\n",
    "dupe_df[\"Mouse ID\"]"
   ]
  },
  {
   "cell_type": "code",
   "execution_count": null,
   "metadata": {},
   "outputs": [],
   "source": [
    "# Optional: Get all the data for the duplicate mouse ID. \n",
    "dupemi_df = pymerged_df.loc[pymerged_df[\"Mouse ID\"] == \"g989\"]\n",
    "dupemi_df"
   ]
  },
  {
   "cell_type": "code",
   "execution_count": null,
   "metadata": {},
   "outputs": [],
   "source": [
    "# Create a clean DataFrame by dropping the duplicate mouse by its ID.\n",
    "cleanmice_df = pymerged_df.loc[pymerged_df[\"Mouse ID\"] != \"g989\"]\n",
    "cleanmice_df.head()"
   ]
  },
  {
   "cell_type": "code",
   "execution_count": null,
   "metadata": {},
   "outputs": [],
   "source": [
    "# Checking the number of mice in the clean DataFrame.\n",
    "cleanmousecount = len(cleanmice_df[\"Mouse ID\"].unique())\n",
    "cleanmousecount"
   ]
  },
  {
   "cell_type": "markdown",
   "metadata": {},
   "source": [
    "## Summary Statistics"
   ]
  },
  {
   "cell_type": "code",
   "execution_count": null,
   "metadata": {},
   "outputs": [],
   "source": [
    "# Generate a summary statistics table of mean, median, variance, standard deviation, and SEM of the tumor volume for each regimen\n",
    "regimen_df = pd.DataFrame(cleanmice_df.groupby(\"Drug Regimen\")[\"Tumor Volume (mm3)\"].describe())\n",
    "# Use groupby and summary statistical methods to calculate the following properties of each drug regimen: \n",
    "# mean, median, variance, standard deviation, and SEM of the tumor volume. \n",
    "# Assemble the resulting series into a single summary DataFrame.\n",
    "#regimen_df\n"
   ]
  },
  {
   "cell_type": "code",
   "execution_count": null,
   "metadata": {},
   "outputs": [],
   "source": [
    "regimen2_df = pd.DataFrame(cleanmice_df.groupby(\"Drug Regimen\")[\"Tumor Volume (mm3)\"].median())\n",
    "#regimen2_df\n"
   ]
  },
  {
   "cell_type": "code",
   "execution_count": null,
   "metadata": {},
   "outputs": [],
   "source": [
    "drugmerged_df = pd.merge(regimen_df, regimen2_df, how=\"left\", on=[\"Drug Regimen\"])\n",
    "#drugmerged_df"
   ]
  },
  {
   "cell_type": "code",
   "execution_count": null,
   "metadata": {},
   "outputs": [],
   "source": [
    "drugmerged2_df = drugmerged_df.drop([\"count\", \"min\", \"25%\", \"50%\", \"75%\", \"max\"], axis=1)\n",
    "#drugmerged2_df "
   ]
  },
  {
   "cell_type": "code",
   "execution_count": null,
   "metadata": {},
   "outputs": [],
   "source": [
    "drugmerged3_df = drugmerged2_df.rename(columns={\"mean\":\"Mean Tumor Volume\", \"std\":\"Tumor Volume Std.Dev\", \"Tumor Volume (mm3)\":\"Median Tumor Volume\"})\n",
    "drugmerged3_df                                         "
   ]
  },
  {
   "cell_type": "code",
   "execution_count": null,
   "metadata": {},
   "outputs": [],
   "source": [
    "drugmerged4_df = drugmerged3_df[[\"Mean Tumor Volume\", \"Median Tumor Volume\", \"Tumor Volume Std.Dev\"]]  \n",
    "#drugmerged4_df.head()"
   ]
  },
  {
   "cell_type": "code",
   "execution_count": null,
   "metadata": {},
   "outputs": [],
   "source": [
    "variance_df = pd.DataFrame(cleanmice_df.groupby(\"Drug Regimen\")[\"Tumor Volume (mm3)\"].var())\n",
    "variance_df = variance_df.rename(columns={\"Tumor Volume (mm3)\":\"Tumor Volume Variance\"})\n",
    "#variance_df"
   ]
  },
  {
   "cell_type": "code",
   "execution_count": null,
   "metadata": {},
   "outputs": [],
   "source": [
    "std_df = pd.DataFrame(cleanmice_df.groupby(\"Drug Regimen\")[\"Tumor Volume (mm3)\"].std())\n",
    "std_df = std_df.rename(columns={\"Tumor Volume (mm3)\":\"Tumor Volume Std.Err\"})\n",
    "#std_df"
   ]
  },
  {
   "cell_type": "code",
   "execution_count": null,
   "metadata": {},
   "outputs": [],
   "source": [
    "drugmerged5_df = pd.merge(drugmerged4_df, variance_df, how=\"left\", on=[\"Drug Regimen\"])\n",
    "#drugmerged5_df"
   ]
  },
  {
   "cell_type": "code",
   "execution_count": null,
   "metadata": {},
   "outputs": [],
   "source": [
    "drugmerged6_df = pd.merge(drugmerged5_df, std_df, how=\"left\", on=[\"Drug Regimen\"])\n",
    "#drugmerged6_df"
   ]
  },
  {
   "cell_type": "code",
   "execution_count": null,
   "metadata": {},
   "outputs": [],
   "source": [
    "drfinal_df = drugmerged6_df[[\"Mean Tumor Volume\", \"Median Tumor Volume\", \"Tumor Volume Variance\", \"Tumor Volume Std.Dev\", \"Tumor Volume Std.Err\"]]\n",
    "drfinal_df"
   ]
  },
  {
   "cell_type": "code",
   "execution_count": null,
   "metadata": {},
   "outputs": [],
   "source": [
    "# Generate a summary statistics table of mean, median, variance, standard deviation, \n",
    "# and SEM of the tumor volume for each regimen\n",
    "\n",
    "# Using the aggregation method, produce the same summary statistics in a single line.\n"
   ]
  },
  {
   "cell_type": "markdown",
   "metadata": {},
   "source": [
    "## Bar and Pie Charts"
   ]
  },
  {
   "cell_type": "code",
   "execution_count": null,
   "metadata": {},
   "outputs": [],
   "source": [
    "# Generate a bar plot showing the total number of timepoints for all mice tested for each drug regimen using Pandas.\n",
    "cleanmice2_df = pd.DataFrame(cleanmice_df.groupby(\"Drug Regimen\", )[\"Timepoint\"].count())\n",
    "#cleanmice2_df\n"
   ]
  },
  {
   "cell_type": "code",
   "execution_count": null,
   "metadata": {},
   "outputs": [],
   "source": [
    "cleanmice2_df.plot(kind=\"bar\", legend=0)\n",
    "plt.ylabel(\"Number of Mice Tested\")\n",
    "plt.show()                                                "
   ]
  },
  {
   "cell_type": "code",
   "execution_count": null,
   "metadata": {},
   "outputs": [],
   "source": [
    "# Generate a bar plot showing the total number of timepoints for all mice tested for each drug regimen using pyplot.\n",
    "micetot = [230, 178, 178, 188, 186, 181, 148, 228, 181, 182]\n",
    "xdrugs = [\"Capomulin\", \"Ceftamin\", \"Infubinol\", \"Ketapril\", \"Naftisol\", \"Placebo\", \"Propriva\", \"Ramicane\", \"Stelasyn\", \"Zoniferol\"]\n",
    "plt.bar(xdrugs, micetot, color=\"b\", align=\"center\")\n",
    "plt.xticks(rotation='vertical')\n",
    "plt.ylabel(\"Number of Mice Tested\")\n",
    "plt.show()"
   ]
  },
  {
   "cell_type": "code",
   "execution_count": null,
   "metadata": {},
   "outputs": [],
   "source": [
    "# Generate a pie plot showing the distribution of female versus male mice using Pandas\n",
    "gender_df = pd.DataFrame(cleanmice_df.groupby(\"Sex\")[\"Sex\"].count()).reset_index(names=\"Gender\")\n",
    "#gender_df\n",
    "sortedgen_df = gender_df.sort_values([\"Sex\"], ascending=False)\n",
    "sortedgen_df = sortedgen_df.set_index(\"Gender\")\n",
    "sortedgen_df\n",
    "gender_pie = sortedgen_df.plot(kind=\"pie\", x=\"Gender\", y=\"Sex\", legend=0, autopct=\"%1.1f%%\")\n",
    "plt.show()"
   ]
  },
  {
   "cell_type": "code",
   "execution_count": null,
   "metadata": {},
   "outputs": [],
   "source": [
    "# Generate a pie plot showing the distribution of female versus male mice using pyplot\n",
    "gender = [\"Male\", \"Female\"]\n",
    "sextot = [956, 922] \n",
    "plt.pie(sextot, labels=gender, autopct=\"%1.1f%%\")        \n",
    "plt.show()"
   ]
  },
  {
   "cell_type": "markdown",
   "metadata": {},
   "source": [
    "## Quartiles, Outliers and Boxplots"
   ]
  },
  {
   "cell_type": "code",
   "execution_count": null,
   "metadata": {},
   "outputs": [],
   "source": [
    "# Calculate the final tumor volume of each mouse across four of the treatment regimens:  \n",
    "# Capomulin, Ramicane, Infubinol, and Ceftamin\n",
    "\n",
    "# Start by getting the last (greatest) timepoint for each mouse\n",
    "time_df = pd.DataFrame(cleanmice_df.groupby(\"Mouse ID\", )[\"Timepoint\"].max())\n",
    "#time_df\n",
    "# Merge this group df with the original DataFrame to get the tumor volume at the last timepoint\n",
    "mergtime_df = pd.merge(time_df, cleanmice_df, how=\"left\", on=[\"Mouse ID\", \"Timepoint\"])\n",
    "mergtime_df = mergtime_df.set_index(\"Mouse ID\")\n",
    "mergtime_df"
   ]
  },
  {
   "cell_type": "code",
   "execution_count": null,
   "metadata": {},
   "outputs": [],
   "source": [
    "# Put treatments into a list for for loop (and later for plot labels)\n",
    "drugs = mergtime_df[\"Drug Regimen\"].unique()\n",
    "#drugs\n",
    "\n",
    "# Create empty list to fill with tumor vol data (for plotting)\n",
    "captumorvol = []\n",
    "ramtumorvol = []\n",
    "inftumorvol = []\n",
    "ceftumorvol = []\n",
    "#other = []\n",
    "# Calculate the IQR and quantitatively determine if there are any potential outliers. \n",
    "#for i in mergtime_df\n",
    "    #if [\"Tumor Volume (mm3)] == \"Capomulin\"\n",
    "    #captumorvol.append[\"Tumor Volume (mm3)]\n",
    "    \n",
    "    #elif [\"Tumor Volume (mm3)] == \"Ramicane\"\n",
    "    #ptumorvol.append[\"Tumor Volume (mm3)\"]\n",
    "                       \n",
    "    #elif [\"Tumor Volume (mm3)] == \"Infubinol\"\n",
    "    #captumorvol.append[\"Tumor Volume (mm3)\"]                  \n",
    "    \n",
    "    #elif [\"Tumor Volume (mm3)] == \"Ceftamin\"\n",
    "    #captumorvol.append[\"Tumor Volume (mm3)\"]\n",
    "                       \n",
    "    #else \n",
    "    #other .append[\"Tumor Volume (mm3)]                  \n",
    " #could not get this to work this way                      \n",
    "  \n",
    "              \n",
    "                       \n",
    "    # Locate the rows which contain mice on each drug and get the tumor volumes\n",
    "    \n",
    "    \n",
    "    # add subset \n",
    "    \n",
    "    \n",
    "    # Determine outliers using upper and lower bounds\n",
    "    "
   ]
  },
  {
   "cell_type": "code",
   "execution_count": null,
   "metadata": {},
   "outputs": [],
   "source": [
    "#Have tried numerous methgods to create a Dataframe or Dictionary that contains the tumor volume for all 4 drugs in question but after spending hours on this I need to move on for now \n",
    "\n",
    "# Generate a box plot that shows the distrubution of the tumor volume for each treatment group.\n",
    "#Capomulin_df = mergtime_df.loc[(mergtime_df[\"Drug Regimen\"] == \"Capomulin\")]\n",
    "\n",
    "#Ramicane_df = mergtime_df.loc[(mergtime_df[\"Drug Regimen\"] == \"Ramicane\")]\n",
    "#Infubinol_df = mergtime_df.loc[(mergtime_df[\"Drug Regimen\"] == \"Infubinol\")]\n",
    "#Ceftamin_df = mergtime_df.loc[(mergtime_df[\"Drug Regimen\"] == \"Ceftamin\")]\n",
    "#captumorvol_df = pd.DataFrame(Capomulin_df[\"Tumor Volume (mm3)\"])\n",
    "#ramtumorvol_df = pd.DataFrame(Ramicane_df[\"Tumor Volume (mm3)\"])\n",
    "#inftumorvol = Infubinol_df[\"Tumor Volume (mm3)\"]\n",
    "#ceftumorvol = Infubinol_df[\"Tumor Volume (mm3)\"]        \n",
    "#captumorvol_df[\"Ramicane\"] = ramtumorvol_df.loc[ramtumorvol_df[\"Tumor Volume (mm3)\"]]\n",
    "\n",
    "#captumorvol_df[\n",
    "#new_df[\"Capomulin\"] = Capomulin_df.loc[Capomulin_df[\"Tumor Volume (mm3)\"]]\n",
    "#Capomulin_df[\"Ramicane\"] = Ramicane_df[\"Tumor Volume (mm3)\"]\n",
    "#Capomulin_df[\"Infubinol\"] = Infubinol_df[\"Tumor Volume (mm3)\"]\n",
    "#apomulin_df[\"Ceftamin\"] = Infubinol_df[\"Tumor Volume (mm3)\"]\n",
    "#new_df\n",
    "#fig1, ax1 = plt.subplots()\n",
    "#ax1.set_ylabel(\"Final Tumor Volume (mm3))\n",
    "#ax1.boxplot(captumorvol)\n",
    "#ax1.boxplot(ramtumorvol)\n",
    "#ax1.boxplot(inftumorvol)\n",
    "#ax1.boxplot(ceftumorvol)\n",
    "#plt.show               "
   ]
  },
  {
   "cell_type": "markdown",
   "metadata": {},
   "source": [
    "## Line and Scatter Plots"
   ]
  },
  {
   "cell_type": "code",
   "execution_count": null,
   "metadata": {},
   "outputs": [],
   "source": [
    "# Generate a line plot of tumor volume vs. time point for a mouse treated with Capomulin\n",
    "Capoprep_df = pymerged_df.loc[(pymerged_df[\"Drug Regimen\"] == \"Capomulin\")]\n",
    "#Capoprep_df\n",
    "Capoprep_df = Capoprep_df.sort_values([\"Mouse ID\"], ascending=False)\n",
    "b128_df = Capoprep_df.loc[(pymerged_df[\"Mouse ID\"] == \"b128\")]\n",
    "Capomulin_df = b128_df.set_index(\"Mouse ID\")\n",
    "Capomulin_df = Capomulin_df.sort_values([\"Timepoint\"])\n",
    "#Capomulin_df"
   ]
  },
  {
   "cell_type": "code",
   "execution_count": null,
   "metadata": {},
   "outputs": [],
   "source": [
    "#xxxx = Capomulin_df.loc[\"Timepoint\"]\n",
    "#Capomulin_df.loc[\"Tumor Volume (mm3)\"])\n",
    "cmplot = plt.plot(Capomulin_df[\"Timepoint\"], Capomulin_df[\"Tumor Volume (mm3)\"])\n",
    "plt.title(\"Capomulin treatment of mouse b128\")\n",
    "plt.xlabel(\"Timepoint (days)\")\n",
    "plt.ylabel(\"Tumor Volume (mm3)\")\n",
    "plt.show()"
   ]
  },
  {
   "cell_type": "code",
   "execution_count": null,
   "metadata": {},
   "outputs": [],
   "source": [
    "# Generate a scatter plot of average tumor volume vs. mouse weight for the Capomulin regimen\n",
    "cleanmice2_df = pd.DataFrame(Capoprep_df.groupby(\"Mouse ID\")[\"Tumor Volume (mm3)\"].mean())\n",
    "#cleanmice2_df"
   ]
  },
  {
   "cell_type": "code",
   "execution_count": null,
   "metadata": {},
   "outputs": [],
   "source": [
    "cleanmice3_df = pd.DataFrame(Capoprep_df.groupby(\"Mouse ID\")[\"Weight (g)\"].mean())\n",
    "#cleanmice3_df"
   ]
  },
  {
   "cell_type": "code",
   "execution_count": null,
   "metadata": {},
   "outputs": [],
   "source": [
    "cleanmicemerge_df = pd.merge(cleanmice2_df, cleanmice3_df, how=\"left\", on=[\"Mouse ID\"])\n",
    "#cleanmicemerge_df"
   ]
  },
  {
   "cell_type": "code",
   "execution_count": null,
   "metadata": {},
   "outputs": [],
   "source": [
    "plt.scatter(cleanmicemerge_df[\"Weight (g)\"], cleanmicemerge_df[\"Tumor Volume (mm3)\"])\n",
    "plt.xlabel(\"Weight (g)\")\n",
    "plt.ylabel(\"Tumor Volume (mm3)\")\n",
    "plt.show()"
   ]
  },
  {
   "cell_type": "markdown",
   "metadata": {},
   "source": [
    "## Correlation and Regression"
   ]
  },
  {
   "cell_type": "code",
   "execution_count": null,
   "metadata": {},
   "outputs": [],
   "source": [
    "# Calculate the correlation coefficient and linear regression model \n",
    "# for mouse weight and average tumor volume for the Capomulin regimen\n",
    "\n",
    "#coudnt get regression line to work\n",
    "\n",
    "#slope, intercept, rvalue, pvalue, sterr) = linregress(cleanmicemerge_df[\"Weight (g)\"], cleanmicemerge_df[\"Tumor Volume (mm3)\"])\n",
    "#regress_values = cleanmicemerge_df[\"Weight (g)\"] * slope + intercept\n",
    "#line_eq = \"y =\" +str(round(slope,2)) + \"x + \" + str(round(intercept,2))\n",
    "#plt.plot(cleanmicemerge_df[\"Weight (g)\"],regress_values,\"r-\")                                                                                                         \n",
    "#plt.annotate(line_eq,(5.8,0.8),fontsize=15,color=\"red\")\n",
    "weight = cleanmicemerge_df[\"Weight (g)\"]\n",
    "tumvol = cleanmicemerge_df[\"Tumor Volume (mm3)\"]\n",
    "correlation = st.pearsonr(weight,tumvol)\n",
    "plt.scatter(cleanmicemerge_df[\"Weight (g)\"], cleanmicemerge_df[\"Tumor Volume (mm3)\"])\n",
    "plt.xlabel(\"Weight (g)\")\n",
    "plt.ylabel(\"Tumor Volume (mm3)\")\n",
    "print(f\"The correlation between mouse weight and the average tumor volume is {round(correlation[0],2)}\")\n",
    "plt.show()"
   ]
  },
  {
   "cell_type": "code",
   "execution_count": null,
   "metadata": {},
   "outputs": [],
   "source": []
  }
 ],
 "metadata": {
  "anaconda-cloud": {},
  "kernelspec": {
   "display_name": "Python 3 (ipykernel)",
   "language": "python",
   "name": "python3"
  },
  "language_info": {
   "codemirror_mode": {
    "name": "ipython",
    "version": 3
   },
   "file_extension": ".py",
   "mimetype": "text/x-python",
   "name": "python",
   "nbconvert_exporter": "python",
   "pygments_lexer": "ipython3",
   "version": "3.10.9"
  }
 },
 "nbformat": 4,
 "nbformat_minor": 4
}
